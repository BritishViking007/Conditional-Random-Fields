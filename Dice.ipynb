{
 "cells": [
  {
   "cell_type": "code",
   "execution_count": 1,
   "metadata": {},
   "outputs": [],
   "source": [
    "import torch\n",
    "\n",
    "def neg_log_likelihood(self, rolls, states):\n",
    "    loglikelihoods = self._data_to_likelihood(rolls)\n",
    "    states = torch.LongTensor(states)\n",
    "    \n",
    "    sequence_loglik = self._compute_likelihood_numerator(loglikelihoods, states)\n",
    "    denominator = self._compute_likelihood_denominator(loglikelihoods)\n",
    "    return denominator - sequence_loglik"
   ]
  },
  {
   "cell_type": "code",
   "execution_count": 2,
   "metadata": {},
   "outputs": [],
   "source": [
    "def _data_to_likelihood(self, rolls):\n",
    "        log_likelihoods = self.loglikelihood[rolls]\n",
    "        return Variable(torch.FloatTensor(log_likelihoods), requires_grad=False)"
   ]
  },
  {
   "cell_type": "code",
   "execution_count": null,
   "metadata": {},
   "outputs": [],
   "source": []
  }
 ],
 "metadata": {
  "kernelspec": {
   "display_name": "Python 3",
   "language": "python",
   "name": "python3"
  },
  "language_info": {
   "codemirror_mode": {
    "name": "ipython",
    "version": 3
   },
   "file_extension": ".py",
   "mimetype": "text/x-python",
   "name": "python",
   "nbconvert_exporter": "python",
   "pygments_lexer": "ipython3",
   "version": "3.5.4"
  }
 },
 "nbformat": 4,
 "nbformat_minor": 2
}
